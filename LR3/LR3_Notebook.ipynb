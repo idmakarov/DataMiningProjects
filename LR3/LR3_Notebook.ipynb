{
 "cells": [
  {
   "cell_type": "markdown",
   "metadata": {},
   "source": [
    "# Лабораторная работа 3. Apache Spark и анализ данных на GPU\n",
    "Выполнил: студент гр. АСМ-18-04, Макаров И.Д."
   ]
  },
  {
   "cell_type": "markdown",
   "metadata": {},
   "source": [
    "### 1. Apache Spark и параллельные вычисления"
   ]
  },
  {
   "cell_type": "code",
   "execution_count": 1,
   "metadata": {},
   "outputs": [],
   "source": [
    "# Импортируем необходимые библиотеки\n",
    "import warnings\n",
    "warnings.filterwarnings('ignore')\n",
    "\n",
    "%matplotlib inline\n",
    "import numpy as np\n",
    "import pandas as pd\n",
    "import matplotlib.pyplot as plt\n",
    "import seaborn as sns\n",
    "from sklearn.decomposition import PCA\n",
    "\n",
    "import findspark\n",
    "findspark.find()\n",
    "\n",
    "import pyspark.sql.functions as f\n",
    "from pyspark.sql import SparkSession, SQLContext\n",
    "\n",
    "from pyspark.ml.evaluation import RegressionEvaluator\n",
    "from pyspark.ml.feature import VectorAssembler\n",
    "from pyspark.ml.regression import LinearRegression\n",
    "from pyspark.ml.clustering import KMeans\n",
    "\n",
    "from ipywidgets import IntProgress\n",
    "from IPython.display import display\n",
    "import time"
   ]
  },
  {
   "cell_type": "code",
   "execution_count": 2,
   "metadata": {
    "scrolled": false
   },
   "outputs": [],
   "source": [
    "# Инициируем сессию Spark\n",
    "spark = SparkSession.builder.appName('LR3').getOrCreate()"
   ]
  },
  {
   "cell_type": "code",
   "execution_count": 3,
   "metadata": {},
   "outputs": [],
   "source": [
    "# Файл для анализа данных\n",
    "filename = 'bp-stats-review-2019-all-data.xlsx'"
   ]
  },
  {
   "cell_type": "markdown",
   "metadata": {},
   "source": [
    "### 1.1 Знакомство с параллельными вычислениями с Apache Spark"
   ]
  },
  {
   "cell_type": "code",
   "execution_count": 53,
   "metadata": {},
   "outputs": [],
   "source": [
    "# Подготавливаем необходимую информацию для импорта данных\n",
    "sheets = ['Oil Consumption - Mtoe',\n",
    "          'Gas Consumption - Mtoe',\n",
    "          'Solar Consumption - Mtoe']\n",
    "header_ = 2\n",
    "usecols_ = 'A:BC'\n",
    "skiprows_ = list(range(109,125))\n",
    "\n",
    "# Импортируем данные\n",
    "df = pd.read_excel(filename, sheet_name=sheets, header=header_, usecols=usecols_, skiprows=skiprows_)\n",
    "\n",
    "for sheet in sheets:\n",
    "    df[sheet].dropna(inplace=True, how='all')\n",
    "    df[sheet].reset_index(inplace=True, drop=True)"
   ]
  },
  {
   "cell_type": "code",
   "execution_count": 4,
   "metadata": {
    "scrolled": false
   },
   "outputs": [
    {
     "data": {
      "text/html": [
       "<div>\n",
       "<style scoped>\n",
       "    .dataframe tbody tr th:only-of-type {\n",
       "        vertical-align: middle;\n",
       "    }\n",
       "\n",
       "    .dataframe tbody tr th {\n",
       "        vertical-align: top;\n",
       "    }\n",
       "\n",
       "    .dataframe thead th {\n",
       "        text-align: right;\n",
       "    }\n",
       "</style>\n",
       "<table border=\"1\" class=\"dataframe\">\n",
       "  <thead>\n",
       "    <tr style=\"text-align: right;\">\n",
       "      <th></th>\n",
       "      <th>Million tonnes oil equivalent</th>\n",
       "      <th>1965</th>\n",
       "      <th>1966</th>\n",
       "      <th>1967</th>\n",
       "      <th>1968</th>\n",
       "      <th>1969</th>\n",
       "      <th>1970</th>\n",
       "      <th>1971</th>\n",
       "      <th>1972</th>\n",
       "      <th>1973</th>\n",
       "      <th>...</th>\n",
       "      <th>2009</th>\n",
       "      <th>2010</th>\n",
       "      <th>2011</th>\n",
       "      <th>2012</th>\n",
       "      <th>2013</th>\n",
       "      <th>2014</th>\n",
       "      <th>2015</th>\n",
       "      <th>2016</th>\n",
       "      <th>2017</th>\n",
       "      <th>2018</th>\n",
       "    </tr>\n",
       "  </thead>\n",
       "  <tbody>\n",
       "    <tr>\n",
       "      <td>0</td>\n",
       "      <td>Canada</td>\n",
       "      <td>55.272396</td>\n",
       "      <td>58.234069</td>\n",
       "      <td>62.175940</td>\n",
       "      <td>66.190292</td>\n",
       "      <td>68.920491</td>\n",
       "      <td>73.499592</td>\n",
       "      <td>75.481547</td>\n",
       "      <td>79.478321</td>\n",
       "      <td>83.882607</td>\n",
       "      <td>...</td>\n",
       "      <td>99.762396</td>\n",
       "      <td>107.068086</td>\n",
       "      <td>110.367291</td>\n",
       "      <td>107.471962</td>\n",
       "      <td>107.805690</td>\n",
       "      <td>109.646464</td>\n",
       "      <td>106.966207</td>\n",
       "      <td>108.702138</td>\n",
       "      <td>108.796753</td>\n",
       "      <td>109.974271</td>\n",
       "    </tr>\n",
       "    <tr>\n",
       "      <td>1</td>\n",
       "      <td>Mexico</td>\n",
       "      <td>15.343793</td>\n",
       "      <td>16.078587</td>\n",
       "      <td>17.220666</td>\n",
       "      <td>18.726045</td>\n",
       "      <td>19.790064</td>\n",
       "      <td>21.278996</td>\n",
       "      <td>22.565501</td>\n",
       "      <td>25.409552</td>\n",
       "      <td>27.192227</td>\n",
       "      <td>...</td>\n",
       "      <td>92.940218</td>\n",
       "      <td>93.343641</td>\n",
       "      <td>94.899632</td>\n",
       "      <td>96.431584</td>\n",
       "      <td>93.758781</td>\n",
       "      <td>89.514740</td>\n",
       "      <td>88.486157</td>\n",
       "      <td>89.128402</td>\n",
       "      <td>85.819769</td>\n",
       "      <td>82.824033</td>\n",
       "    </tr>\n",
       "    <tr>\n",
       "      <td>2</td>\n",
       "      <td>US</td>\n",
       "      <td>565.869388</td>\n",
       "      <td>594.152486</td>\n",
       "      <td>617.120100</td>\n",
       "      <td>659.945528</td>\n",
       "      <td>695.892017</td>\n",
       "      <td>723.721235</td>\n",
       "      <td>748.587032</td>\n",
       "      <td>808.809997</td>\n",
       "      <td>853.780970</td>\n",
       "      <td>...</td>\n",
       "      <td>860.588513</td>\n",
       "      <td>877.453257</td>\n",
       "      <td>862.165031</td>\n",
       "      <td>843.835305</td>\n",
       "      <td>859.769126</td>\n",
       "      <td>866.147645</td>\n",
       "      <td>884.512178</td>\n",
       "      <td>893.263915</td>\n",
       "      <td>901.997187</td>\n",
       "      <td>919.729513</td>\n",
       "    </tr>\n",
       "    <tr>\n",
       "      <td>3</td>\n",
       "      <td>Total North America</td>\n",
       "      <td>636.485576</td>\n",
       "      <td>668.465142</td>\n",
       "      <td>696.516707</td>\n",
       "      <td>744.861865</td>\n",
       "      <td>784.602573</td>\n",
       "      <td>818.499823</td>\n",
       "      <td>846.634080</td>\n",
       "      <td>913.697870</td>\n",
       "      <td>964.855804</td>\n",
       "      <td>...</td>\n",
       "      <td>1053.291127</td>\n",
       "      <td>1077.864984</td>\n",
       "      <td>1067.431954</td>\n",
       "      <td>1047.738851</td>\n",
       "      <td>1061.333597</td>\n",
       "      <td>1065.308848</td>\n",
       "      <td>1079.964542</td>\n",
       "      <td>1091.094456</td>\n",
       "      <td>1096.613710</td>\n",
       "      <td>1112.527817</td>\n",
       "    </tr>\n",
       "    <tr>\n",
       "      <td>4</td>\n",
       "      <td>Argentina</td>\n",
       "      <td>22.367953</td>\n",
       "      <td>23.092416</td>\n",
       "      <td>23.661791</td>\n",
       "      <td>24.162294</td>\n",
       "      <td>25.105912</td>\n",
       "      <td>22.541685</td>\n",
       "      <td>24.073526</td>\n",
       "      <td>24.106384</td>\n",
       "      <td>24.188986</td>\n",
       "      <td>...</td>\n",
       "      <td>25.006119</td>\n",
       "      <td>28.568863</td>\n",
       "      <td>28.852377</td>\n",
       "      <td>30.146814</td>\n",
       "      <td>32.351584</td>\n",
       "      <td>31.916016</td>\n",
       "      <td>32.904958</td>\n",
       "      <td>32.314052</td>\n",
       "      <td>32.036983</td>\n",
       "      <td>30.113779</td>\n",
       "    </tr>\n",
       "    <tr>\n",
       "      <td>...</td>\n",
       "      <td>...</td>\n",
       "      <td>...</td>\n",
       "      <td>...</td>\n",
       "      <td>...</td>\n",
       "      <td>...</td>\n",
       "      <td>...</td>\n",
       "      <td>...</td>\n",
       "      <td>...</td>\n",
       "      <td>...</td>\n",
       "      <td>...</td>\n",
       "      <td>...</td>\n",
       "      <td>...</td>\n",
       "      <td>...</td>\n",
       "      <td>...</td>\n",
       "      <td>...</td>\n",
       "      <td>...</td>\n",
       "      <td>...</td>\n",
       "      <td>...</td>\n",
       "      <td>...</td>\n",
       "      <td>...</td>\n",
       "      <td>...</td>\n",
       "    </tr>\n",
       "    <tr>\n",
       "      <td>94</td>\n",
       "      <td>Taiwan</td>\n",
       "      <td>2.208785</td>\n",
       "      <td>2.612964</td>\n",
       "      <td>3.103428</td>\n",
       "      <td>3.701331</td>\n",
       "      <td>4.432443</td>\n",
       "      <td>5.322958</td>\n",
       "      <td>7.450605</td>\n",
       "      <td>8.062883</td>\n",
       "      <td>10.285898</td>\n",
       "      <td>...</td>\n",
       "      <td>47.959167</td>\n",
       "      <td>48.990155</td>\n",
       "      <td>44.546577</td>\n",
       "      <td>44.533194</td>\n",
       "      <td>45.521823</td>\n",
       "      <td>47.053992</td>\n",
       "      <td>47.492446</td>\n",
       "      <td>48.747630</td>\n",
       "      <td>50.119162</td>\n",
       "      <td>50.045484</td>\n",
       "    </tr>\n",
       "    <tr>\n",
       "      <td>95</td>\n",
       "      <td>Thailand</td>\n",
       "      <td>2.381457</td>\n",
       "      <td>2.810960</td>\n",
       "      <td>3.119875</td>\n",
       "      <td>4.112510</td>\n",
       "      <td>4.453973</td>\n",
       "      <td>5.185130</td>\n",
       "      <td>5.772345</td>\n",
       "      <td>7.246151</td>\n",
       "      <td>7.670720</td>\n",
       "      <td>...</td>\n",
       "      <td>48.624996</td>\n",
       "      <td>50.213515</td>\n",
       "      <td>52.378238</td>\n",
       "      <td>55.130667</td>\n",
       "      <td>57.244796</td>\n",
       "      <td>57.577616</td>\n",
       "      <td>60.244185</td>\n",
       "      <td>62.490385</td>\n",
       "      <td>64.357282</td>\n",
       "      <td>65.785046</td>\n",
       "    </tr>\n",
       "    <tr>\n",
       "      <td>96</td>\n",
       "      <td>Vietnam</td>\n",
       "      <td>1.548714</td>\n",
       "      <td>3.384720</td>\n",
       "      <td>4.957216</td>\n",
       "      <td>5.057102</td>\n",
       "      <td>6.112092</td>\n",
       "      <td>6.336598</td>\n",
       "      <td>5.360566</td>\n",
       "      <td>5.550255</td>\n",
       "      <td>5.450157</td>\n",
       "      <td>...</td>\n",
       "      <td>14.750988</td>\n",
       "      <td>15.960240</td>\n",
       "      <td>17.356307</td>\n",
       "      <td>17.559155</td>\n",
       "      <td>18.958823</td>\n",
       "      <td>19.511255</td>\n",
       "      <td>21.189895</td>\n",
       "      <td>22.473842</td>\n",
       "      <td>23.638310</td>\n",
       "      <td>24.851152</td>\n",
       "    </tr>\n",
       "    <tr>\n",
       "      <td>97</td>\n",
       "      <td>Other Asia Pacific</td>\n",
       "      <td>3.048464</td>\n",
       "      <td>3.223380</td>\n",
       "      <td>3.457835</td>\n",
       "      <td>3.655482</td>\n",
       "      <td>3.825000</td>\n",
       "      <td>4.007302</td>\n",
       "      <td>4.130925</td>\n",
       "      <td>4.662323</td>\n",
       "      <td>4.624563</td>\n",
       "      <td>...</td>\n",
       "      <td>13.186560</td>\n",
       "      <td>13.989468</td>\n",
       "      <td>14.888876</td>\n",
       "      <td>16.165767</td>\n",
       "      <td>17.814505</td>\n",
       "      <td>19.014304</td>\n",
       "      <td>19.993661</td>\n",
       "      <td>21.320381</td>\n",
       "      <td>21.888193</td>\n",
       "      <td>22.491971</td>\n",
       "    </tr>\n",
       "    <tr>\n",
       "      <td>98</td>\n",
       "      <td>Total Asia Pacific</td>\n",
       "      <td>163.200585</td>\n",
       "      <td>188.060704</td>\n",
       "      <td>219.182223</td>\n",
       "      <td>250.630328</td>\n",
       "      <td>291.134730</td>\n",
       "      <td>338.499211</td>\n",
       "      <td>376.404315</td>\n",
       "      <td>405.338504</td>\n",
       "      <td>461.138715</td>\n",
       "      <td>...</td>\n",
       "      <td>1262.561355</td>\n",
       "      <td>1341.743500</td>\n",
       "      <td>1384.679701</td>\n",
       "      <td>1443.567942</td>\n",
       "      <td>1469.085843</td>\n",
       "      <td>1493.443128</td>\n",
       "      <td>1548.902631</td>\n",
       "      <td>1606.154414</td>\n",
       "      <td>1651.336852</td>\n",
       "      <td>1695.360514</td>\n",
       "    </tr>\n",
       "  </tbody>\n",
       "</table>\n",
       "<p>99 rows × 55 columns</p>\n",
       "</div>"
      ],
      "text/plain": [
       "   Million tonnes oil equivalent        1965        1966        1967  \\\n",
       "0                         Canada   55.272396   58.234069   62.175940   \n",
       "1                         Mexico   15.343793   16.078587   17.220666   \n",
       "2                             US  565.869388  594.152486  617.120100   \n",
       "3            Total North America  636.485576  668.465142  696.516707   \n",
       "4                      Argentina   22.367953   23.092416   23.661791   \n",
       "..                           ...         ...         ...         ...   \n",
       "94                        Taiwan    2.208785    2.612964    3.103428   \n",
       "95                      Thailand    2.381457    2.810960    3.119875   \n",
       "96                       Vietnam    1.548714    3.384720    4.957216   \n",
       "97            Other Asia Pacific    3.048464    3.223380    3.457835   \n",
       "98            Total Asia Pacific  163.200585  188.060704  219.182223   \n",
       "\n",
       "          1968        1969        1970        1971        1972        1973  \\\n",
       "0    66.190292   68.920491   73.499592   75.481547   79.478321   83.882607   \n",
       "1    18.726045   19.790064   21.278996   22.565501   25.409552   27.192227   \n",
       "2   659.945528  695.892017  723.721235  748.587032  808.809997  853.780970   \n",
       "3   744.861865  784.602573  818.499823  846.634080  913.697870  964.855804   \n",
       "4    24.162294   25.105912   22.541685   24.073526   24.106384   24.188986   \n",
       "..         ...         ...         ...         ...         ...         ...   \n",
       "94    3.701331    4.432443    5.322958    7.450605    8.062883   10.285898   \n",
       "95    4.112510    4.453973    5.185130    5.772345    7.246151    7.670720   \n",
       "96    5.057102    6.112092    6.336598    5.360566    5.550255    5.450157   \n",
       "97    3.655482    3.825000    4.007302    4.130925    4.662323    4.624563   \n",
       "98  250.630328  291.134730  338.499211  376.404315  405.338504  461.138715   \n",
       "\n",
       "    ...         2009         2010         2011         2012         2013  \\\n",
       "0   ...    99.762396   107.068086   110.367291   107.471962   107.805690   \n",
       "1   ...    92.940218    93.343641    94.899632    96.431584    93.758781   \n",
       "2   ...   860.588513   877.453257   862.165031   843.835305   859.769126   \n",
       "3   ...  1053.291127  1077.864984  1067.431954  1047.738851  1061.333597   \n",
       "4   ...    25.006119    28.568863    28.852377    30.146814    32.351584   \n",
       "..  ...          ...          ...          ...          ...          ...   \n",
       "94  ...    47.959167    48.990155    44.546577    44.533194    45.521823   \n",
       "95  ...    48.624996    50.213515    52.378238    55.130667    57.244796   \n",
       "96  ...    14.750988    15.960240    17.356307    17.559155    18.958823   \n",
       "97  ...    13.186560    13.989468    14.888876    16.165767    17.814505   \n",
       "98  ...  1262.561355  1341.743500  1384.679701  1443.567942  1469.085843   \n",
       "\n",
       "           2014         2015         2016         2017         2018  \n",
       "0    109.646464   106.966207   108.702138   108.796753   109.974271  \n",
       "1     89.514740    88.486157    89.128402    85.819769    82.824033  \n",
       "2    866.147645   884.512178   893.263915   901.997187   919.729513  \n",
       "3   1065.308848  1079.964542  1091.094456  1096.613710  1112.527817  \n",
       "4     31.916016    32.904958    32.314052    32.036983    30.113779  \n",
       "..          ...          ...          ...          ...          ...  \n",
       "94    47.053992    47.492446    48.747630    50.119162    50.045484  \n",
       "95    57.577616    60.244185    62.490385    64.357282    65.785046  \n",
       "96    19.511255    21.189895    22.473842    23.638310    24.851152  \n",
       "97    19.014304    19.993661    21.320381    21.888193    22.491971  \n",
       "98  1493.443128  1548.902631  1606.154414  1651.336852  1695.360514  \n",
       "\n",
       "[99 rows x 55 columns]"
      ]
     },
     "execution_count": 4,
     "metadata": {},
     "output_type": "execute_result"
    }
   ],
   "source": [
    "# Примерный вид исходных данных\n",
    "df[sheets[0]]"
   ]
  },
  {
   "cell_type": "code",
   "execution_count": 54,
   "metadata": {},
   "outputs": [],
   "source": [
    "# Создадим датафреймы Spark\n",
    "sparkDF = [spark.createDataFrame(data=df[sheet]) for sheet in sheets]"
   ]
  },
  {
   "cell_type": "code",
   "execution_count": 6,
   "metadata": {
    "scrolled": false
   },
   "outputs": [
    {
     "name": "stdout",
     "output_type": "stream",
     "text": [
      "+-----------------------------+\n",
      "|Million tonnes oil equivalent|\n",
      "+-----------------------------+\n",
      "|                      Germany|\n",
      "|                        China|\n",
      "|                        Italy|\n",
      "|                         Iran|\n",
      "|                           US|\n",
      "|           Russian Federation|\n",
      "|                       Mexico|\n",
      "|                 Saudi Arabia|\n",
      "|                       Canada|\n",
      "|                        Japan|\n",
      "|               United Kingdom|\n",
      "+-----------------------------+\n",
      "\n"
     ]
    }
   ],
   "source": [
    "# Найдём список стран, потребление нефти и газа в которых превышает заданный порог (млн т нефти в 2018 году)\n",
    "thresh = 50\n",
    "year = '2018'\n",
    "country_col = 'Million tonnes oil equivalent'\n",
    "filtered1 = sparkDF[0].filter((sparkDF[0][year]>thresh) &\n",
    "                             ~(f.isnan(sparkDF[0][year])) &\n",
    "                             ~(sparkDF[0][country_col].contains(r'Total')))\n",
    "filtered2 = sparkDF[1].filter((sparkDF[1][year]>thresh) &\n",
    "                             ~(f.isnan(sparkDF[1][year])) &\n",
    "                             ~(sparkDF[1][country_col].contains(r'Total')))\n",
    "filtered = filtered1.select(country_col).intersect(filtered2.select(country_col))\n",
    "filtered.show()"
   ]
  },
  {
   "cell_type": "code",
   "execution_count": 58,
   "metadata": {},
   "outputs": [],
   "source": [
    "# Теперь создадим функцию для нахождения пар (год, страна),\n",
    "# в которые наблюдалось падение (по сравнению с предыдущим годом)\n",
    "# в потреблении ресурса больше заданного значения\n",
    "def DecreaseTable(df, thresh):    \n",
    "    cols = df.columns\n",
    "    rng = range(2,len(cols))\n",
    "    \n",
    "    # Индикация прогресса вычислений\n",
    "    prgBar = IntProgress(min = min(rng), max = max(rng), description='Progress:')\n",
    "    display(prgBar)\n",
    "    \n",
    "    filtered = df.select(cols[0])\n",
    "    for i in rng:\n",
    "        buf = df.filter(~f.isnan(df[cols[i]]) &\n",
    "                        ~f.isnan(df[cols[i-1]]) &\n",
    "                        (f.col(cols[i-1]) != 0) &\n",
    "                        ((f.col(cols[i]) - f.col(cols[i-1]))/f.col(cols[i-1])<-thresh)).select(cols[0])\n",
    "        buf = buf.withColumn('Year', f.lit(cols[i]))\n",
    "        buf = buf.select(f.col(cols[0]).alias('Country'), f.col('Year').alias('Year'))\n",
    "        \n",
    "        if i == min(rng):\n",
    "            filtered = buf\n",
    "        else:\n",
    "            filtered = filtered.union(buf)\n",
    "        \n",
    "        prgBar.value = i\n",
    "        time.sleep(0.1)\n",
    "        \n",
    "    print('Calculation completed!')\n",
    "    return filtered"
   ]
  },
  {
   "cell_type": "code",
   "execution_count": 59,
   "metadata": {
    "scrolled": false
   },
   "outputs": [
    {
     "data": {
      "application/vnd.jupyter.widget-view+json": {
       "model_id": "5e4c6c44c04b46098b94fc2131276a0c",
       "version_major": 2,
       "version_minor": 0
      },
      "text/plain": [
       "IntProgress(value=2, description='Progress:', max=54, min=2)"
      ]
     },
     "metadata": {},
     "output_type": "display_data"
    },
    {
     "name": "stdout",
     "output_type": "stream",
     "text": [
      "Calculation completed!\n",
      "+--------------------+----+\n",
      "|             Country|Year|\n",
      "+--------------------+----+\n",
      "|             Vietnam|1974|\n",
      "|             Vietnam|1976|\n",
      "|               Qatar|1988|\n",
      "|              Kuwait|1990|\n",
      "|             Estonia|1992|\n",
      "|           Lithuania|1992|\n",
      "|             Ukraine|1993|\n",
      "|        Turkmenistan|1993|\n",
      "|           Other CIS|1993|\n",
      "|           Other CIS|1994|\n",
      "|   Trinidad & Tobago|1997|\n",
      "|          Azerbaijan|2001|\n",
      "|Other Northern Af...|2011|\n",
      "+--------------------+----+\n",
      "\n"
     ]
    }
   ],
   "source": [
    "# Найдём пары (год, страна),\n",
    "# в которые наблюдалось падение (по сравнению с предыдущим годом)\n",
    "# в потреблении нефти больше заданного значения\n",
    "thresh = 0.33\n",
    "pair_df1 = DecreaseTable(sparkDF[0], thresh)\n",
    "\n",
    "pair_df1.show()"
   ]
  },
  {
   "cell_type": "code",
   "execution_count": 16,
   "metadata": {
    "scrolled": false
   },
   "outputs": [
    {
     "data": {
      "application/vnd.jupyter.widget-view+json": {
       "model_id": "145175b34f57413db23a023ec92d4f2f",
       "version_major": 2,
       "version_minor": 0
      },
      "text/plain": [
       "IntProgress(value=2, description='Progress:', max=54, min=2)"
      ]
     },
     "metadata": {},
     "output_type": "display_data"
    },
    {
     "name": "stdout",
     "output_type": "stream",
     "text": [
      "Calculation completed!\n",
      "+--------------------+----+\n",
      "|             Country|Year|\n",
      "+--------------------+----+\n",
      "|      United Kingdom|1987|\n",
      "|        Total Europe|1987|\n",
      "|      United Kingdom|1989|\n",
      "|            Portugal|1990|\n",
      "|         Netherlands|1994|\n",
      "|              Canada|2004|\n",
      "|            Colombia|2006|\n",
      "|Total S. & Cent. ...|2006|\n",
      "|               India|2006|\n",
      "|           Argentina|2009|\n",
      "|             Ecuador|2009|\n",
      "|             Ecuador|2010|\n",
      "|             Romania|2011|\n",
      "|               Egypt|2012|\n",
      "|           Indonesia|2018|\n",
      "+--------------------+----+\n",
      "\n"
     ]
    }
   ],
   "source": [
    "# Найдём пары (год, страна),\n",
    "# в которые наблюдалось падение (по сравнению с предыдущим годом)\n",
    "# в потреблении солнечной (альтернативной) энергии больше заданного значения\n",
    "thresh = 0.33\n",
    "pair_df2 = DecreaseTable(sparkDF[2], thresh)\n",
    "pair_df2.show()"
   ]
  },
  {
   "cell_type": "code",
   "execution_count": 38,
   "metadata": {},
   "outputs": [],
   "source": [
    "# Импортируем и подготовим данные\n",
    "sheets = ['Renewables - TWh', 'Electricity Generation ']\n",
    "header_ = 2\n",
    "usecols_ = ['A:BC', 'A:AI']\n",
    "skiprows_ = list(range(109,125))\n",
    "\n",
    "df1 = pd.read_excel(filename, sheet_name=sheets[0], header=header_, usecols=usecols_[0], skiprows=skiprows_)\n",
    "df2 = pd.read_excel(filename, sheet_name=sheets[1], header=header_, usecols=usecols_[1], skiprows=skiprows_)\n",
    "df1.drop(df1.index[df1['Terawatt-hours']=='USSR'], inplace=True)\n",
    "\n",
    "for df_ in [df1, df2]:\n",
    "    df_.dropna(inplace=True, how='all')\n",
    "    df_.reset_index(inplace=True, drop=True)"
   ]
  },
  {
   "cell_type": "code",
   "execution_count": 39,
   "metadata": {},
   "outputs": [],
   "source": [
    "# Создадим датафреймы Spark\n",
    "sparkDF2 = [spark.createDataFrame(data=df_) for df_ in [df1, df2]]"
   ]
  },
  {
   "cell_type": "code",
   "execution_count": 85,
   "metadata": {},
   "outputs": [],
   "source": [
    "# Создадим функцию для нахождения стран,\n",
    "# в которых на текущий момент имеющиеся мощности по возобновляемым источникам энергии\n",
    "# превышают задаваемый процент от генерируемой данной страной электроэнергией, и год,\n",
    "# в который произошел переход через этот заданный порог\n",
    "def RenewableAboveThreshold(sdf1, sdf2, thresh):    \n",
    "    cols = sdf1.columns\n",
    "    rng = range(2,len(cols))\n",
    "    old_alias = '2018'\n",
    "    new_alias = 'tot'\n",
    "    \n",
    "    # Индикация прогресса вычислений\n",
    "    prgBar = IntProgress(min = min(rng), max = max(rng), description='Progress:')\n",
    "    display(prgBar)\n",
    "    \n",
    "    # Добавим к первому датафрейму (мощности по возобновляемым источникам энергии)\n",
    "    # столбец из второго датафрейма (сгенерированное электричество в 2018 году)\n",
    "    tot_electr = sdf1.join(sdf2.select(f.col(cols[0]).alias(cols[0]),\\\n",
    "                                                       f.col(old_alias).alias(new_alias)), on=cols[0])\n",
    "    # Отберём те страны, в которых мощности по возобновляемым источникам энергии в 2018 году\n",
    "    # превышали заданный порог от сгенерированной данной страной электроэнергии\n",
    "    tot_electr = tot_electr.filter(~f.isnan(f.col(old_alias)) &\n",
    "                                   ~f.isnan(f.col(new_alias)) &\n",
    "                                   (f.col(new_alias)>0) &\n",
    "                                   (f.col(old_alias)>thresh*f.col(new_alias)))\n",
    "    \n",
    "    # Найдём год (или года), когда произошёл переход через заданный порог\n",
    "    for i in rng:\n",
    "        buf = tot_electr.filter(~f.isnan(f.col(cols[i])) &\n",
    "                                ~f.isnan(f.col(cols[i-1]))&\n",
    "                                ~f.isnan(f.col(new_alias)) &\n",
    "                                (f.col(new_alias)>0) &\n",
    "                                (f.col(cols[i-1])<thresh*f.col(new_alias)) &\n",
    "                                (f.col(cols[i])>thresh*f.col(new_alias))).select(cols[0])\n",
    "        buf = buf.withColumn('Year', f.lit(cols[i]))\n",
    "        buf = buf.select(f.col(cols[0]).alias('Country'), f.col('Year').alias('Year'))\n",
    "        \n",
    "        if i == min(rng):\n",
    "            filtered = buf\n",
    "        else:\n",
    "            filtered = filtered.union(buf)\n",
    "        \n",
    "        prgBar.value = i\n",
    "        time.sleep(0.1)\n",
    "        \n",
    "    print('Calculation completed!')\n",
    "    return filtered"
   ]
  },
  {
   "cell_type": "code",
   "execution_count": 86,
   "metadata": {},
   "outputs": [
    {
     "data": {
      "application/vnd.jupyter.widget-view+json": {
       "model_id": "79eb833294e14adb8d71da1a13ad3edc",
       "version_major": 2,
       "version_minor": 0
      },
      "text/plain": [
       "IntProgress(value=2, description='Progress:', max=54, min=2)"
      ]
     },
     "metadata": {},
     "output_type": "display_data"
    },
    {
     "name": "stdout",
     "output_type": "stream",
     "text": [
      "Calculation completed!\n",
      "+---------+----+\n",
      "|  Country|Year|\n",
      "+---------+----+\n",
      "|  Denmark|2007|\n",
      "|  Denmark|2010|\n",
      "|Lithuania|2015|\n",
      "+---------+----+\n",
      "\n"
     ]
    }
   ],
   "source": [
    "# Найдём страны,\n",
    "# в которых на текущий момент имеющиеся мощности по возобновляемым источникам энергии\n",
    "# превышают задаваемый процент от генерируемой данной страной электроэнергией, и год,\n",
    "# в который произошел переход через этот заданный порог\n",
    "thresh = 0.33\n",
    "pair_df3 = RenewableAboveThreshold(sparkDF2[0], sparkDF2[1], thresh)\n",
    "pair_df3.show()"
   ]
  },
  {
   "cell_type": "markdown",
   "metadata": {},
   "source": [
    "### 1.2 Регрессия и классификация с Apache Spark"
   ]
  },
  {
   "cell_type": "code",
   "execution_count": 4,
   "metadata": {},
   "outputs": [],
   "source": [
    "# Подготавливаем необходимую информацию для импорта целевых данных\n",
    "sheets = ['Oil - Crude prices since 1861', 'Coal Consumption - Mtoe']\n",
    "header_ = [3, 2]\n",
    "usecols_ = ['A:C', 'A:BC']\n",
    "skiprows_ = [list(range(162,167)), list(range(111,125))]\n",
    "\n",
    "# Импорт\n",
    "trg1 = pd.read_excel(filename, sheet_name=sheets[0], header=header_[0], usecols=usecols_[0], skiprows=skiprows_[0])\n",
    "trg2 = pd.read_excel(filename, sheet_name=sheets[1], header=header_[1], usecols=usecols_[1], skiprows=skiprows_[1])\n",
    "\n",
    "for df_ in [trg1, trg2]:\n",
    "    df_.dropna(inplace=True, how='all')\n",
    "    df_.reset_index(inplace=True, drop=True)\n",
    "    \n",
    "trg1.drop(['$ money of the day'], axis=1, inplace=True)\n",
    "\n",
    "col0 = trg2.columns[0]\n",
    "trg2.index = list(trg2[col0])\n",
    "trg2.drop([col0], axis=1, inplace=True)\n",
    "trg2 = trg2.T\n",
    "trg2 = trg2.reset_index()"
   ]
  },
  {
   "cell_type": "code",
   "execution_count": 5,
   "metadata": {},
   "outputs": [],
   "source": [
    "# Подготавливаем необходимую информацию для импорта регрессоров\n",
    "# 1. Предполагается наличие связи между ценой на нефть и её добычей, а также потреблением.\n",
    "# 2. Для потребления угля предполагается наличие связи с добычей нефти (как конкурирующего сырья),\n",
    "# а также добычей угля.\n",
    "sheets = ['Oil Production - Tonnes', 'Oil Consumption - Tonnes', 'Coal Production - Mtoe']\n",
    "header_ = 2\n",
    "usecols_ = ['A:BC', 'A:BC', 'A:AM']\n",
    "skiprows_ = [list(range(75,89)), list(range(111,125)), list(range(59,70))]\n",
    "\n",
    "# Импорт\n",
    "regress_df = [pd.read_excel(filename, sheet_name=sheets[i], header=header_, usecols=usecols_[i], skiprows=skiprows_[i]) for i in range(3)]\n",
    "\n",
    "rng = range(len(regress_df))\n",
    "for i in rng:\n",
    "    regress_df[i].dropna(inplace=True, how='all')\n",
    "    col0 = regress_df[i].columns[0]\n",
    "    regress_df[i].index = list(regress_df[i][col0])\n",
    "    regress_df[i].drop([col0], axis=1, inplace=True)\n",
    "    regress_df[i] = regress_df[i].T\n",
    "    regress_df[i] = regress_df[i].reset_index()"
   ]
  },
  {
   "cell_type": "code",
   "execution_count": 48,
   "metadata": {
    "scrolled": true
   },
   "outputs": [],
   "source": [
    "# Создадим датафреймы Spark\n",
    "trg_DF = [spark.createDataFrame(data=df_) for df_ in [trg1, trg2]]\n",
    "regress_DF = [spark.createDataFrame(data=df_) for df_ in regress_df]"
   ]
  },
  {
   "cell_type": "code",
   "execution_count": 49,
   "metadata": {},
   "outputs": [],
   "source": [
    "# Извлечём столбец с годами и целевые столбцы: цена на нефть и годовое потребление угля в мире\n",
    "cols = trg_DF[0].columns\n",
    "trg_DF[0] = trg_DF[0].select(f.col(cols[0]).alias('index'), f.col(cols[1]).alias('Prices'))\n",
    "cols = trg_DF[1].columns\n",
    "trg_DF[1] = trg_DF[1].select(f.col(cols[0]).alias('index'), f.col(cols[-1]).alias(cols[-1]+' Coal Consumption'))"
   ]
  },
  {
   "cell_type": "code",
   "execution_count": 50,
   "metadata": {},
   "outputs": [],
   "source": [
    "# Извлечём столбец с годами и столбцы признаков: добыча нефти, потребление нефти и добыча угля (общемировые показатели)\n",
    "names = [' Oil Production', ' Oil Consumption', ' Coal Production']\n",
    "for i in range(len(regress_DF)):\n",
    "    cols = regress_DF[i].columns\n",
    "    names[i] = cols[-1] + names[i]\n",
    "    regress_DF[i] = regress_DF[i].select(f.col(cols[0]), f.col(cols[-1]).alias(names[i]))"
   ]
  },
  {
   "cell_type": "code",
   "execution_count": 84,
   "metadata": {
    "scrolled": true
   },
   "outputs": [],
   "source": [
    "# Объединим данные в один датафрейм для анализа\n",
    "task1_tbl_DF = regress_DF[0].join(regress_DF[1], on='index').join(trg_DF[0], on='index')"
   ]
  },
  {
   "cell_type": "code",
   "execution_count": 85,
   "metadata": {
    "scrolled": true
   },
   "outputs": [
    {
     "name": "stdout",
     "output_type": "stream",
     "text": [
      "+-----+--------------------------+---------------------------+------------------+\n",
      "|index|Total World Oil Production|Total World Oil Consumption|            Prices|\n",
      "+-----+--------------------------+---------------------------+------------------+\n",
      "| 1965|        1567.5872683070395|          1525.791909858996|      14.310085716|\n",
      "| 1966|        1702.2157165874578|         1642.8440039604388|13.921372080000001|\n",
      "| 1967|        1826.1754756367077|         1760.3321268565765|13.528138517999999|\n",
      "| 1968|         1992.260473063878|         1911.4177117783483|      12.985747398|\n",
      "| 1969|        2144.4790518540226|          2073.606216042205|      12.321318276|\n",
      "| 1970|         2358.889372273901|          2252.830843940845|11.634289523999998|\n",
      "| 1971|        2493.6190628485288|         2385.8597606219296|13.870748908800001|\n",
      "| 1972|         2635.423175726848|         2568.7395391681216|     14.8898415576|\n",
      "| 1973|        2875.7629804549338|         2769.8013581546534|     18.5964570953|\n",
      "| 1974|        2882.1713839636695|         2729.4529071095462| 58.99964872739999|\n",
      "| 1975|        2737.5524121041026|         2698.1765933570923| 53.82295236889999|\n",
      "| 1976|        2974.2604217410008|          2874.218434120775|56.472959872000004|\n",
      "| 1977|        3078.1375637504257|          2971.626741911565|     57.6393016656|\n",
      "| 1978|        3106.1059361003945|          3059.019534227909| 53.99570766871165|\n",
      "| 1979|         3237.563677839971|         3110.4316282016134|109.33184944903581|\n",
      "| 1980|        3091.0912392864234|           2987.76432683836|112.23629623786407|\n",
      "| 1981|        2912.9428072093883|         2877.0120097837107| 99.25494510451044|\n",
      "| 1982|        2797.7228274107943|         2785.8693903574626| 85.79272321243523|\n",
      "| 1983|         2762.004488275377|         2767.2969231079474| 74.50011897590362|\n",
      "| 1984|        2816.1207133269154|          2828.007537168638| 69.55591395572667|\n",
      "+-----+--------------------------+---------------------------+------------------+\n",
      "only showing top 20 rows\n",
      "\n"
     ]
    }
   ],
   "source": [
    "task1_tbl_DF = task1_tbl_DF.sort('index')\n",
    "task1_tbl_DF.show()"
   ]
  },
  {
   "cell_type": "code",
   "execution_count": 86,
   "metadata": {},
   "outputs": [
    {
     "name": "stdout",
     "output_type": "stream",
     "text": [
      "Correlation of Total World Oil Production and Prices is 0.550\n",
      "Correlation of Total World Oil Consumption and Prices is 0.546\n"
     ]
    }
   ],
   "source": [
    "# Вычислим коэффициенты корреляции Пирсона для проверки наличия статистической связи регрессоров с целевым столбцом\n",
    "cols = task1_tbl_DF.columns\n",
    "for i in range(1,len(cols)-1):\n",
    "    print('Correlation of {} and Prices is {:.3f}'.format(cols[i], task1_tbl_DF.corr(cols[3], cols[i])))"
   ]
  },
  {
   "cell_type": "markdown",
   "metadata": {},
   "source": [
    "По шкале Чеддока обе связи считаются заметными (0.5 < r < 0.7)"
   ]
  },
  {
   "cell_type": "code",
   "execution_count": 150,
   "metadata": {},
   "outputs": [
    {
     "name": "stdout",
     "output_type": "stream",
     "text": [
      "1.000\t0.998\t0.550\t\n",
      "0.998\t1.000\t0.546\t\n",
      "0.550\t0.546\t1.000\t\n"
     ]
    }
   ],
   "source": [
    "# Вычислим коэффициенты корреляции Пирсона для проверки наличия статистической связи между регрессорами\n",
    "cols = task1_tbl_DF.columns\n",
    "rng = range(1,len(cols))\n",
    "for i in rng:\n",
    "    output = ''\n",
    "    for j in rng:\n",
    "        corr_coef = task1_tbl_DF.corr(cols[i], cols[j])\n",
    "        output = output + ('{:.3f}\\t'.format(corr_coef))\n",
    "    print(output)"
   ]
  },
  {
   "cell_type": "markdown",
   "metadata": {},
   "source": [
    "Видно, что связь между двумя регрессорами весьма высока, поэтому увеличим число признаков по потреблению нефти и повторим проверки"
   ]
  },
  {
   "cell_type": "code",
   "execution_count": 11,
   "metadata": {},
   "outputs": [],
   "source": [
    "# Выберем все столбцы, содержащие суммарное потребление нефти по регионам мира кроме общемирового, и сформируем новый датасет\n",
    "new_DF = spark.createDataFrame(data=regress_df[1])\n",
    "tot_cols = [x for x in new_DF.columns if (r'Total' in x) and not (r'World' in x)]\n",
    "tot_names = [x+' Oil Cons' for x in tot_cols]\n",
    "\n",
    "buf = new_DF.select('index')\n",
    "for i in range(len(tot_cols)):\n",
    "    try:\n",
    "        buf = buf.join(new_DF.select('index', f.col(tot_cols[i]).alias(tot_names[i])), on='index')\n",
    "    except:\n",
    "        tot_cols[i] = '`'+tot_cols[i]+'`'\n",
    "        tot_names[i] = tot_names[i].replace('&', 'and').replace('S.', 'South').replace('Cent.', 'Central')\n",
    "        buf = buf.join(new_DF.select('index', f.col(tot_cols[i]).alias(tot_names[i])), on='index')\n",
    "    \n",
    "new_DF = buf\n",
    "task1_tbl_DF = regress_DF[0].join(new_DF, on='index').join(trg_DF[0], on='index')\n",
    "task1_tbl_DF = task1_tbl_DF.sort('index')\n",
    "#task2_tbl_DF.show()"
   ]
  },
  {
   "cell_type": "code",
   "execution_count": 180,
   "metadata": {},
   "outputs": [
    {
     "name": "stdout",
     "output_type": "stream",
     "text": [
      "Correlation of Total World Oil Production and Prices is 0.550\n",
      "Correlation of Total North America Oil Cons and Prices is 0.431\n",
      "Correlation of Total South and Central America Oil Cons and Prices is 0.563\n",
      "Correlation of Total Europe Oil Cons and Prices is 0.243\n",
      "Correlation of Total CIS Oil Cons and Prices is 0.136\n",
      "Correlation of Total Middle East Oil Cons and Prices is 0.488\n",
      "Correlation of Total Africa Oil Cons and Prices is 0.518\n",
      "Correlation of Total Asia Pacific Oil Cons and Prices is 0.477\n"
     ]
    }
   ],
   "source": [
    "# Вычислим коэффициенты корреляции Пирсона для проверки наличия статистической связи регрессоров с целевым столбцом\n",
    "cols = task1_tbl_DF.columns\n",
    "for i in range(1,len(cols)-1):\n",
    "    print('Correlation of {} and {} is {:.3f}'.format(cols[i], cols[-1], task1_tbl_DF.corr(cols[-1], cols[i])))"
   ]
  },
  {
   "cell_type": "markdown",
   "metadata": {},
   "source": [
    "Заметна слабая связь между потреблением нефти в Европе и ценами на нефть, а также между потреблением в СНГ, в остальном - всё примерно на том же уровне"
   ]
  },
  {
   "cell_type": "code",
   "execution_count": 179,
   "metadata": {
    "scrolled": true
   },
   "outputs": [
    {
     "data": {
      "application/vnd.jupyter.widget-view+json": {
       "model_id": "acf5503cafbf422b909cc3c040141155",
       "version_major": 2,
       "version_minor": 0
      },
      "text/plain": [
       "IntProgress(value=1, max=8, min=1)"
      ]
     },
     "metadata": {},
     "output_type": "display_data"
    },
    {
     "name": "stdout",
     "output_type": "stream",
     "text": [
      "Strong correlation between:\n",
      "['Total World Oil Production', 'Total North America Oil Cons', 'Total South and Central America Oil Cons', 'Total Middle East Oil Cons', 'Total Africa Oil Cons', 'Total Asia Pacific Oil Cons']\n",
      "[]\n",
      "['Total South and Central America Oil Cons', 'Total Middle East Oil Cons', 'Total Africa Oil Cons', 'Total Asia Pacific Oil Cons']\n",
      "[]\n",
      "[]\n",
      "['Total Middle East Oil Cons', 'Total Africa Oil Cons', 'Total Asia Pacific Oil Cons']\n",
      "['Total Africa Oil Cons', 'Total Asia Pacific Oil Cons']\n",
      "[]\n"
     ]
    }
   ],
   "source": [
    "# Вычислим коэффициенты корреляции Пирсона для проверки наличия статистической связи между регрессорами\n",
    "cols = task1_tbl_DF.columns\n",
    "rng = range(1,len(cols)-1)\n",
    "lim = 0.85\n",
    "\n",
    "prgBar = IntProgress(min = min(rng), max = max(rng))\n",
    "display(prgBar)\n",
    "print('Strong correlation between:')\n",
    "\n",
    "for i in rng:\n",
    "    prgBar.min = i\n",
    "    prgBar.value = i\n",
    "    prgBar.description = '{} step'.format(i)\n",
    "    time.sleep(0.1)\n",
    "    \n",
    "    output = []\n",
    "    for j in range(i+1,max(rng)+1):\n",
    "        \n",
    "        corr_coef = task1_tbl_DF.corr(cols[i], cols[j])\n",
    "        if abs(corr_coef)>lim and i!=j:\n",
    "            if not (cols[i] in output):\n",
    "                output.append(cols[i])\n",
    "            if not (cols[j] in output):\n",
    "                output.append(cols[j])\n",
    "        prgBar.value = j\n",
    "        time.sleep(0.1)\n",
    "                \n",
    "    print(output)"
   ]
  },
  {
   "cell_type": "markdown",
   "metadata": {},
   "source": [
    "Видно, что связь между регрессорами весьма высока, кроме потребления нефти в Европе и в СНГ, поэтому оставим их и добычу нефти в качестве регрессоров."
   ]
  },
  {
   "cell_type": "code",
   "execution_count": 12,
   "metadata": {},
   "outputs": [],
   "source": [
    "# Сформируем из столбцов-регрессоров один столбец признаков\n",
    "cols = task1_tbl_DF.columns\n",
    "vectorAssembler = VectorAssembler(inputCols = ['Total World Oil Production',\n",
    "                                               'Total Europe Oil Cons',\n",
    "                                               'Total CIS Oil Cons'], outputCol = 'features')\n",
    "vtask1_DF = vectorAssembler.transform(task1_tbl_DF)\n",
    "# Возьмём столбец признаков и целевой столбец\n",
    "vtask1_DF = vtask1_DF.select(['features', cols[-1]])"
   ]
  },
  {
   "cell_type": "code",
   "execution_count": 13,
   "metadata": {},
   "outputs": [],
   "source": [
    "# Разобьём датасет на обучающее и тестовое подмножества\n",
    "splits = vtask1_DF.randomSplit([0.7, 0.3])\n",
    "train_df = splits[0]\n",
    "test_df = splits[1]"
   ]
  },
  {
   "cell_type": "code",
   "execution_count": 14,
   "metadata": {},
   "outputs": [
    {
     "name": "stdout",
     "output_type": "stream",
     "text": [
      "Coefficients: [0.047828266950390386,-0.16588415459430803,0.18798103645958106]\n",
      "Intercept: -26.891683889257404\n"
     ]
    }
   ],
   "source": [
    "# Обучим модель линейной регрессии и выведем коэффициенты полученной модели\n",
    "lr = LinearRegression(featuresCol = 'features', labelCol=cols[-1], maxIter=10, regParam=0.3, elasticNetParam=0.8)\n",
    "lr_model = lr.fit(train_df)\n",
    "print(\"Coefficients: \" + str(lr_model.coefficients))\n",
    "print(\"Intercept: \" + str(lr_model.intercept))"
   ]
  },
  {
   "cell_type": "code",
   "execution_count": 15,
   "metadata": {},
   "outputs": [
    {
     "name": "stdout",
     "output_type": "stream",
     "text": [
      "RMSE: 23.682954\n",
      "r2: 0.496582\n"
     ]
    }
   ],
   "source": [
    "# Выведем сумму квадратов регрессионных остатков и коэффициент детерминации\n",
    "trainingSummary = lr_model.summary\n",
    "print(\"RMSE: %f\" % trainingSummary.rootMeanSquaredError)\n",
    "print(\"r2: %f\" % trainingSummary.r2)"
   ]
  },
  {
   "cell_type": "markdown",
   "metadata": {},
   "source": [
    "По коэффициенту детерминации можно заключить, что примерно 50% цен на нефть (обучающей выборки) можно объяснить с помощью данной модели."
   ]
  },
  {
   "cell_type": "code",
   "execution_count": 16,
   "metadata": {},
   "outputs": [
    {
     "name": "stdout",
     "output_type": "stream",
     "text": [
      "R Squared (R2) on test data = 0.633758\n"
     ]
    }
   ],
   "source": [
    "# Проверим модель на тестовых данных и выведем коэффициент детерминации\n",
    "lr_predictions = lr_model.transform(test_df)\n",
    "lr_predictions.select('prediction', cols[-1], 'features')\n",
    "\n",
    "lr_evaluator = RegressionEvaluator(predictionCol='prediction', labelCol=cols[-1],metricName=\"r2\")\n",
    "print(\"R Squared (R2) on test data = %g\" % lr_evaluator.evaluate(lr_predictions))"
   ]
  },
  {
   "cell_type": "markdown",
   "metadata": {},
   "source": [
    "По коэффициенту детерминации можно заключить, что примерно 63% цен на нефть (тестовой выборки) можно объяснить с помощью данной модели, что является не таким уж и плохим результатом."
   ]
  },
  {
   "cell_type": "code",
   "execution_count": 17,
   "metadata": {},
   "outputs": [
    {
     "name": "stdout",
     "output_type": "stream",
     "text": [
      "Root Mean Squared Error (RMSE) on test data = 17.2384\n"
     ]
    }
   ],
   "source": [
    "# Выведем сумму квадратов регрессионных остатков\n",
    "test_result = lr_model.evaluate(test_df)\n",
    "print(\"Root Mean Squared Error (RMSE) on test data = %g\" % test_result.rootMeanSquaredError)"
   ]
  },
  {
   "cell_type": "code",
   "execution_count": 37,
   "metadata": {},
   "outputs": [],
   "source": [
    "# Функция для расчёта прогнозных значений модели линейной регрессии на основе коэффициентов\n",
    "def model_predict_(x, model):\n",
    "    coefs = list(model.coefficients)\n",
    "    coefs.append(model.intercept)\n",
    "    x = np.hstack((x, np.ones((len(x),1))))\n",
    "    result = np.dot(x, coefs)\n",
    "    return result"
   ]
  },
  {
   "cell_type": "code",
   "execution_count": 22,
   "metadata": {},
   "outputs": [],
   "source": [
    "# Сформируем датафрейм признаков и целевого показателя\n",
    "X_df = task1_tbl_DF.select('index', 'Total World Oil Production', 'Total Europe Oil Cons', 'Total CIS Oil Cons').toPandas()\n",
    "Y_df = task1_tbl_DF.select('Prices').toPandas()"
   ]
  },
  {
   "cell_type": "code",
   "execution_count": 38,
   "metadata": {},
   "outputs": [
    {
     "data": {
      "image/png": "[encoded data removed]",
      "text/plain": [
       "<Figure size 1296x216 with 1 Axes>"
      ]
     },
     "metadata": {
      "needs_background": "light"
     },
     "output_type": "display_data"
    }
   ],
   "source": [
    "# Построим график истинных значений и прогнозных\n",
    "y_pred = model_predict_(np.asarray(X_df.drop('index', axis=1)), lr_model)\n",
    "x = X_df['index']\n",
    "\n",
    "plt.figure(figsize=(18, 3))\n",
    "lbl1 = 'True '+ cols[-1]\n",
    "lbl2 = 'Predicted '+ cols[-1]\n",
    "plt.plot(x, Y_df, \"b\", label=lbl1)\n",
    "plt.plot(x, y_pred, \"r\", label=lbl2)\n",
    "plt.legend()\n",
    "plt.grid(True)"
   ]
  },
  {
   "cell_type": "code",
   "execution_count": 51,
   "metadata": {},
   "outputs": [
    {
     "name": "stdout",
     "output_type": "stream",
     "text": [
      "Correlation of Total World Oil Production and Coal Consumption is 0.942\n",
      "Correlation of Total World Coal Production and Coal Consumption is 0.996\n"
     ]
    }
   ],
   "source": [
    "# Объединим данные в один датафрейм для анализа\n",
    "task2_tbl_DF = regress_DF[0].join(regress_DF[2], on='index').join(trg_DF[1], on='index')\n",
    "task2_tbl_DF = task2_tbl_DF.sort('index')\n",
    "\n",
    "# Вычислим коэффициенты корреляции Пирсона для проверки наличия статистической связи регрессоров с целевым столбцом\n",
    "cols = task2_tbl_DF.columns\n",
    "for i in range(1,len(cols)-1):\n",
    "    print('Correlation of {} and Coal Consumption is {:.3f}'.format(cols[i], task2_tbl_DF.corr(cols[3], cols[i])))"
   ]
  },
  {
   "cell_type": "code",
   "execution_count": 52,
   "metadata": {},
   "outputs": [
    {
     "name": "stdout",
     "output_type": "stream",
     "text": [
      "1.000\t0.930\t0.942\t\n",
      "0.930\t1.000\t0.996\t\n",
      "0.942\t0.996\t1.000\t\n"
     ]
    }
   ],
   "source": [
    "# Вычислим коэффициенты корреляции Пирсона для проверки наличия статистической связи между регрессорами\n",
    "cols = task2_tbl_DF.columns\n",
    "rng = range(1,len(cols))\n",
    "for i in rng:\n",
    "    output = ''\n",
    "    for j in rng:\n",
    "        corr_coef = task2_tbl_DF.corr(cols[i], cols[j])\n",
    "        output = output + ('{:.3f}\\t'.format(corr_coef))\n",
    "    print(output)"
   ]
  },
  {
   "cell_type": "code",
   "execution_count": null,
   "metadata": {},
   "outputs": [],
   "source": [
    "Видно, что связь между двумя регрессорами весьма высока, поэтому увеличим число признаков по добыче угля и повторим проверки"
   ]
  },
  {
   "cell_type": "code",
   "execution_count": 39,
   "metadata": {},
   "outputs": [],
   "source": [
    "# Выберем все столбцы, содержащие суммарную добычу угля по регионам мира кроме общемирового, и сформируем новый датасет\n",
    "new_DF = spark.createDataFrame(data=regress_df[2])\n",
    "tot_cols = [x for x in new_DF.columns if (r'Total' in x) and not (r'World' in x)]\n",
    "tot_names = [x+' Coal Prod' for x in tot_cols]\n",
    "\n",
    "buf = new_DF.select('index')\n",
    "for i in range(len(tot_cols)):\n",
    "    try:\n",
    "        buf = buf.join(new_DF.select('index', f.col(tot_cols[i]).alias(tot_names[i])), on='index')\n",
    "    except:\n",
    "        tot_cols[i] = '`'+tot_cols[i]+'`'\n",
    "        tot_names[i] = tot_names[i].replace('&', 'and').replace('S.', 'South').replace('Cent.', 'Central')\n",
    "        buf = buf.join(new_DF.select('index', f.col(tot_cols[i]).alias(tot_names[i])), on='index')\n",
    "    \n",
    "new_DF = buf\n",
    "task2_tbl_DF = regress_DF[0].join(new_DF, on='index').join(trg_DF[1], on='index')\n",
    "task2_tbl_DF = task2_tbl_DF.sort('index')\n",
    "#task2_tbl_DF.show()"
   ]
  },
  {
   "cell_type": "code",
   "execution_count": 144,
   "metadata": {},
   "outputs": [
    {
     "name": "stdout",
     "output_type": "stream",
     "text": [
      "Correlation of Total World Oil Production and Total World Coal Consumption is 0.942\n",
      "Correlation of Total North America Coal Prod and Total World Coal Consumption is -0.161\n",
      "Correlation of Total South and Central America Coal Prod and Total World Coal Consumption is 0.975\n",
      "Correlation of Total Europe Coal Prod and Total World Coal Consumption is -0.812\n",
      "Correlation of Total CIS Coal Prod and Total World Coal Consumption is -0.185\n",
      "Correlation of Total Middle East Coal Prod and Total World Coal Consumption is 0.488\n",
      "Correlation of Total Africa Coal Prod and Total World Coal Consumption is 0.903\n",
      "Correlation of Total Asia Pacific Coal Prod and Total World Coal Consumption is 0.993\n"
     ]
    }
   ],
   "source": [
    "# Вычислим коэффициенты корреляции Пирсона для проверки наличия статистической связи регрессоров с целевым столбцом\n",
    "cols = task2_tbl_DF.columns\n",
    "for i in range(1,len(cols)-1):\n",
    "    print('Correlation of {} and {} is {:.3f}'.format(cols[i], cols[-1], task2_tbl_DF.corr(cols[-1], cols[i])))"
   ]
  },
  {
   "cell_type": "markdown",
   "metadata": {},
   "source": [
    "Заметна слабая отрицательная связь между добычей угля в Северной Америке и потреблением угля, между добычей угля в СНГ и потреблением угля, умеренная положительная связь между добычей угля на Ближнем Востоке и потреблением угля, а также сильная отрицательная связь между добычей угля в Европе и потреблением угля. В остальном - всё примерно на том же уровне."
   ]
  },
  {
   "cell_type": "code",
   "execution_count": 181,
   "metadata": {},
   "outputs": [
    {
     "data": {
      "application/vnd.jupyter.widget-view+json": {
       "model_id": "a674c4282f2840f2838b4b38fd154aa8",
       "version_major": 2,
       "version_minor": 0
      },
      "text/plain": [
       "IntProgress(value=1, max=8, min=1)"
      ]
     },
     "metadata": {},
     "output_type": "display_data"
    },
    {
     "name": "stdout",
     "output_type": "stream",
     "text": [
      "Strong correlation between:\n",
      "['Total World Oil Production', 'Total South and Central America Coal Prod', 'Total Europe Coal Prod', 'Total Africa Coal Prod', 'Total Asia Pacific Coal Prod']\n",
      "[]\n",
      "['Total South and Central America Coal Prod', 'Total Europe Coal Prod', 'Total Africa Coal Prod', 'Total Asia Pacific Coal Prod']\n",
      "['Total Europe Coal Prod', 'Total Africa Coal Prod']\n",
      "[]\n",
      "[]\n",
      "['Total Africa Coal Prod', 'Total Asia Pacific Coal Prod']\n",
      "[]\n"
     ]
    }
   ],
   "source": [
    "# Вычислим коэффициенты корреляции Пирсона для проверки наличия статистической связи между регрессорами\n",
    "cols = task2_tbl_DF.columns\n",
    "rng = range(1,len(cols)-1)\n",
    "lim = 0.85\n",
    "\n",
    "prgBar = IntProgress(min = min(rng), max = max(rng))\n",
    "display(prgBar)\n",
    "print('Strong correlation between:')\n",
    "\n",
    "for i in rng:\n",
    "    prgBar.min = i\n",
    "    prgBar.value = i\n",
    "    prgBar.description = '{} step'.format(i)\n",
    "    time.sleep(0.1)\n",
    "    \n",
    "    output = []\n",
    "    for j in range(i+1,max(rng)+1):\n",
    "        \n",
    "        corr_coef = task2_tbl_DF.corr(cols[i], cols[j])\n",
    "        if abs(corr_coef)>lim and i!=j:\n",
    "            if not (cols[i] in output):\n",
    "                output.append(cols[i])\n",
    "            if not (cols[j] in output):\n",
    "                output.append(cols[j])\n",
    "        prgBar.value = j\n",
    "        time.sleep(0.1)\n",
    "                \n",
    "    print(output)"
   ]
  },
  {
   "cell_type": "markdown",
   "metadata": {},
   "source": [
    "Видно, что связь между регрессорами весьма высока, кроме добычи угля в Северной Америке, СНГ и Ближнем Востоке, поэтому оставим их и добычу нефти в качестве регрессоров."
   ]
  },
  {
   "cell_type": "code",
   "execution_count": 40,
   "metadata": {},
   "outputs": [],
   "source": [
    "# Сформируем из столбцов-регрессоров один столбец признаков\n",
    "cols = task2_tbl_DF.columns\n",
    "vectorAssembler = VectorAssembler(inputCols = ['Total World Oil Production',\n",
    "                                               'Total North America Coal Prod',\n",
    "                                               'Total CIS Coal Prod',\n",
    "                                               'Total Middle East Coal Prod'], outputCol = 'features')\n",
    "vtask2_DF = vectorAssembler.transform(task2_tbl_DF)\n",
    "# Возьмём столбец признаков и целевой столбец\n",
    "vtask2_DF = vtask2_DF.select(['features', cols[-1]])"
   ]
  },
  {
   "cell_type": "code",
   "execution_count": 41,
   "metadata": {},
   "outputs": [],
   "source": [
    "# Разобьём датасет на обучающее и тестовое подмножества\n",
    "splits = vtask2_DF.randomSplit([0.7, 0.3])\n",
    "train_df = splits[0]\n",
    "test_df = splits[1]"
   ]
  },
  {
   "cell_type": "code",
   "execution_count": 42,
   "metadata": {},
   "outputs": [
    {
     "name": "stdout",
     "output_type": "stream",
     "text": [
      "Coefficients: [1.406913872674544,1.4881847442323441,3.8068121483621606,134.28052018678366]\n",
      "Intercept: -4015.7916769944395\n"
     ]
    }
   ],
   "source": [
    "# Обучим модель линейной регрессии и выведем коэффициенты полученной модели\n",
    "lr = LinearRegression(featuresCol = 'features', labelCol=cols[-1], maxIter=10, regParam=0.3, elasticNetParam=0.8)\n",
    "lr_model = lr.fit(train_df)\n",
    "print(\"Coefficients: \" + str(lr_model.coefficients))\n",
    "print(\"Intercept: \" + str(lr_model.intercept))"
   ]
  },
  {
   "cell_type": "code",
   "execution_count": 43,
   "metadata": {},
   "outputs": [
    {
     "name": "stdout",
     "output_type": "stream",
     "text": [
      "RMSE: 184.557405\n",
      "r2: 0.927049\n"
     ]
    }
   ],
   "source": [
    "# Выведем сумму квадратов регрессионных остатков и коэффициент детерминации\n",
    "trainingSummary = lr_model.summary\n",
    "print(\"RMSE: %f\" % trainingSummary.rootMeanSquaredError)\n",
    "print(\"r2: %f\" % trainingSummary.r2)"
   ]
  },
  {
   "cell_type": "markdown",
   "metadata": {},
   "source": [
    "По коэффициенту детерминации можно заключить, что примерно 93% данных по потреблению угля (обучающей выборки) можно объяснить с помощью данной модели."
   ]
  },
  {
   "cell_type": "code",
   "execution_count": 44,
   "metadata": {},
   "outputs": [
    {
     "name": "stdout",
     "output_type": "stream",
     "text": [
      "R Squared (R2) on test data = 0.892516\n"
     ]
    }
   ],
   "source": [
    "# Проверим модель на тестовых данных и выведем коэффициент детерминации\n",
    "lr_predictions = lr_model.transform(test_df)\n",
    "lr_predictions.select('prediction', cols[-1], 'features')\n",
    "from pyspark.ml.evaluation import RegressionEvaluator\n",
    "lr_evaluator = RegressionEvaluator(predictionCol='prediction', labelCol=cols[-1],metricName=\"r2\")\n",
    "print(\"R Squared (R2) on test data = %g\" % lr_evaluator.evaluate(lr_predictions))"
   ]
  },
  {
   "cell_type": "markdown",
   "metadata": {},
   "source": [
    "По коэффициенту детерминации можно заключить, что примерно 89% данных по потреблению угля (тестовой выборки) можно объяснить с помощью данной модели. Это значит, что модель не переобучена и даёт хороший прогноз по потреблению угля."
   ]
  },
  {
   "cell_type": "code",
   "execution_count": 45,
   "metadata": {},
   "outputs": [
    {
     "name": "stdout",
     "output_type": "stream",
     "text": [
      "Root Mean Squared Error (RMSE) on test data = 228.544\n"
     ]
    }
   ],
   "source": [
    "# Выведем сумму квадратов регрессионных остатков\n",
    "test_result = lr_model.evaluate(test_df)\n",
    "print(\"Root Mean Squared Error (RMSE) on test data = %g\" % test_result.rootMeanSquaredError)"
   ]
  },
  {
   "cell_type": "code",
   "execution_count": 46,
   "metadata": {},
   "outputs": [],
   "source": [
    "# Сформируем датафрейм признаков и целевого показателя\n",
    "X_df = task2_tbl_DF.select('index', 'Total World Oil Production','Total North America Coal Prod',\n",
    "                           'Total CIS Coal Prod', 'Total Middle East Coal Prod').toPandas()\n",
    "Y_df = task2_tbl_DF.select(cols[-1]).toPandas()"
   ]
  },
  {
   "cell_type": "code",
   "execution_count": 47,
   "metadata": {},
   "outputs": [
    {
     "data": {
      "image/png": "[encoded data removed]",
      "text/plain": [
       "<Figure size 1296x216 with 1 Axes>"
      ]
     },
     "metadata": {
      "needs_background": "light"
     },
     "output_type": "display_data"
    }
   ],
   "source": [
    "# Построим график истинных значений и прогнозных\n",
    "y_pred = model_predict_(np.asarray(X_df.drop('index', axis=1)), lr_model)\n",
    "x = X_df['index']\n",
    "\n",
    "plt.figure(figsize=(18, 3))\n",
    "lbl1 = 'True '+ cols[-1]\n",
    "lbl2 = 'Predicted '+ cols[-1]\n",
    "plt.plot(x, Y_df, \"b\", label=lbl1)\n",
    "plt.plot(x, y_pred, \"r\", label=lbl2)\n",
    "plt.legend()\n",
    "plt.grid(True)"
   ]
  },
  {
   "cell_type": "markdown",
   "metadata": {},
   "source": [
    "### 1.3 Кластеризация с Apache Spark"
   ]
  },
  {
   "cell_type": "code",
   "execution_count": 66,
   "metadata": {},
   "outputs": [],
   "source": [
    "# Подготавливаем необходимую информацию для импорта целевых данных:\n",
    "# потребление энергии из различных источников (нефть, газ, уголь, ядерное топливо, вода, возобновляемые источники)\n",
    "sheets = 'Primary Energy - Cons by fuel'\n",
    "header_ = 2\n",
    "usecols_ = 'A:O'\n",
    "skiprows_ = list(range(89,97))\n",
    "\n",
    "# Импорт файла\n",
    "prim_en_consum_df = pd.read_excel(filename, sheet_name=sheets, header=header_, usecols=usecols_, skiprows=skiprows_)\n",
    "\n",
    "prim_en_consum_df.dropna(inplace=True, how='all')\n",
    "prim_en_consum_df.reset_index(inplace=True, drop=True)"
   ]
  },
  {
   "cell_type": "code",
   "execution_count": 83,
   "metadata": {},
   "outputs": [],
   "source": [
    "# Изменим названия столбцов и подправим некорректные имена\n",
    "cols = prim_en_consum_df.columns\n",
    "for col in cols:\n",
    "    if '.1' in col:\n",
    "        new_col_name = col.replace('.1', '_new')\n",
    "        prim_en_consum_df.rename(columns={col: new_col_name}, inplace=True)\n",
    "    if '- ' in col:\n",
    "        new_col_name = col.replace('- ', '')\n",
    "        prim_en_consum_df.rename(columns={col: new_col_name}, inplace=True)"
   ]
  },
  {
   "cell_type": "code",
   "execution_count": 84,
   "metadata": {},
   "outputs": [],
   "source": [
    "# Создадим датафреймы Spark\n",
    "prim_DF = spark.createDataFrame(data=prim_en_consum_df)"
   ]
  },
  {
   "cell_type": "code",
   "execution_count": 132,
   "metadata": {},
   "outputs": [],
   "source": [
    "# Разобьём датафрейм на два: за 2017 (prim_old_DF) и за 2018 (prim_new_DF) года\n",
    "cols = prim_DF.columns\n",
    "new_cols = [str(col) for col in cols if ('_new' in col) and not ('Total' in col)]\n",
    "old_cols = [str(col) for col in cols if not ('_new' in col) and not ('Total' in col)]\n",
    "prim_new_DF = prim_DF.select(cols[0], *new_cols)\n",
    "prim_old_DF = prim_DF.select(*old_cols)"
   ]
  },
  {
   "cell_type": "code",
   "execution_count": 133,
   "metadata": {
    "scrolled": true
   },
   "outputs": [
    {
     "name": "stdout",
     "output_type": "stream",
     "text": [
      "root\n",
      " |-- Million tonnes oil equivalent: string (nullable = true)\n",
      " |-- Oil_new: double (nullable = true)\n",
      " |-- Natural Gas_new: double (nullable = true)\n",
      " |-- Coal_new: double (nullable = true)\n",
      " |-- Nuclear energy_new: double (nullable = true)\n",
      " |-- Hydro electric_new: double (nullable = true)\n",
      " |-- Renewables_new: double (nullable = true)\n",
      "\n"
     ]
    }
   ],
   "source": [
    "prim_new_DF.printSchema()"
   ]
  },
  {
   "cell_type": "code",
   "execution_count": 134,
   "metadata": {},
   "outputs": [
    {
     "name": "stdout",
     "output_type": "stream",
     "text": [
      "root\n",
      " |-- Million tonnes oil equivalent: string (nullable = true)\n",
      " |-- Oil: double (nullable = true)\n",
      " |-- Natural Gas: double (nullable = true)\n",
      " |-- Coal: double (nullable = true)\n",
      " |-- Nuclear energy: double (nullable = true)\n",
      " |-- Hydro electric: double (nullable = true)\n",
      " |-- Renewables: double (nullable = true)\n",
      "\n"
     ]
    }
   ],
   "source": [
    "prim_old_DF.printSchema()"
   ]
  },
  {
   "cell_type": "code",
   "execution_count": 135,
   "metadata": {},
   "outputs": [
    {
     "name": "stdout",
     "output_type": "stream",
     "text": [
      "+-----------------------------+--------------------+\n",
      "|Million tonnes oil equivalent|            features|\n",
      "+-----------------------------+--------------------+\n",
      "|                       Canada|[109.974271205922...|\n",
      "|                       Mexico|[82.8240326843597...|\n",
      "|                           US|[919.729512949020...|\n",
      "|          Total North America|[1112.52781683930...|\n",
      "|                    Argentina|[30.1137787909599...|\n",
      "+-----------------------------+--------------------+\n",
      "only showing top 5 rows\n",
      "\n"
     ]
    }
   ],
   "source": [
    "# Нам нужно хранить все объекты в виде массива, а этот массив хранить в виде столбца под названием \"features\".\n",
    "# Поскольку нам больше не нужны исходные столбцы, мы отфильтровываем их с помощью оператора select.\n",
    "cols = prim_new_DF.columns\n",
    "vecAssembler = VectorAssembler(inputCols=cols[1:], outputCol=\"features\")\n",
    "df_kmeans = vecAssembler.transform(prim_new_DF).select(cols[0], 'features')\n",
    "df_kmeans.show(5)"
   ]
  },
  {
   "cell_type": "code",
   "execution_count": 138,
   "metadata": {},
   "outputs": [
    {
     "data": {
      "application/vnd.jupyter.widget-view+json": {
       "model_id": "90b5420600254ce3bbfb8dd3971418c2",
       "version_major": 2,
       "version_minor": 0
      },
      "text/plain": [
       "IntProgress(value=2, description='Progress:', max=10, min=2)"
      ]
     },
     "metadata": {},
     "output_type": "display_data"
    },
    {
     "data": {
      "text/plain": [
       "Text(0, 0.5, 'cost')"
      ]
     },
     "execution_count": 138,
     "metadata": {},
     "output_type": "execute_result"
    },
    {
     "data": {
      "image/png": "[encoded data removed]",
      "text/plain": [
       "<Figure size 576x432 with 1 Axes>"
      ]
     },
     "metadata": {
      "needs_background": "light"
     },
     "output_type": "display_data"
    }
   ],
   "source": [
    "# Чтобы оптимизировать выбор k кластеров, сгруппируем часть данных для различных вариантов k\n",
    "# и найдём оптимальное k по правилу \"локтя\".\n",
    "max_k = 10\n",
    "cost = np.zeros(max_k)\n",
    "prgBar = IntProgress(min = 2, max = len(cost)-1, description='Progress:')\n",
    "display(prgBar)\n",
    "\n",
    "for k in range(2,max_k):\n",
    "    kmeans = KMeans().setK(k).setSeed(1).setFeaturesCol(\"features\")\n",
    "    model = kmeans.fit(df_kmeans.sample(False,0.1, seed=42))\n",
    "    cost[k] = model.computeCost(df_kmeans)\n",
    "    \n",
    "    prgBar.value = k\n",
    "    time.sleep(0.1)\n",
    "\n",
    "fig, ax = plt.subplots(1,1, figsize =(8,6))\n",
    "ax.plot(range(2,max_k),cost[2:max_k])\n",
    "ax.set_xlabel('k')\n",
    "ax.set_ylabel('cost')"
   ]
  },
  {
   "cell_type": "markdown",
   "metadata": {},
   "source": [
    "Как видно, начиная с *k* = 6, функционал перестаёт визуально уменьшаться, поэтому остановим свой выбор на *k* = 6."
   ]
  },
  {
   "cell_type": "code",
   "execution_count": 139,
   "metadata": {},
   "outputs": [
    {
     "name": "stdout",
     "output_type": "stream",
     "text": [
      "Cluster Centers: \n",
      "[29.3541905  20.95928098 11.54259442  3.45934231  5.51058335  2.86084134]\n",
      "[ 641.21207428  243.33272696 1906.725        66.60632665  272.07992035\n",
      "  143.50895184]\n",
      "[1695.36051414  709.64969412 2841.34689344  125.26239354  388.85557425\n",
      "  225.36532701]\n",
      "[924.74346973 684.553311   322.48215071 207.43618941 123.63105763\n",
      " 131.59855168]\n",
      "[252.63963834 455.2528123   76.95640181  31.53355458  33.9595651\n",
      "   0.84805712]\n",
      "[166.4779223   96.79258601  89.37062172  10.2735542   42.77368394\n",
      "  18.17752088]\n"
     ]
    }
   ],
   "source": [
    "# Обучим модель\n",
    "k = 6\n",
    "kmeans = KMeans().setK(k).setSeed(1).setFeaturesCol(\"features\")\n",
    "model = kmeans.fit(df_kmeans)\n",
    "centers = model.clusterCenters()\n",
    "\n",
    "# Координаты центроидов\n",
    "print(\"Cluster Centers: \")\n",
    "for center in centers:\n",
    "    print(center)"
   ]
  },
  {
   "cell_type": "code",
   "execution_count": 140,
   "metadata": {},
   "outputs": [
    {
     "name": "stdout",
     "output_type": "stream",
     "text": [
      "[Row(Million tonnes oil equivalent='Canada', prediction=5), Row(Million tonnes oil equivalent='Mexico', prediction=0), Row(Million tonnes oil equivalent='US', prediction=3)]\n"
     ]
    }
   ],
   "source": [
    "# Добавим столбец с прогнозными данными в исходный датафрейм\n",
    "# Для начала с помощью метода transform получим прогнозные значения\n",
    "transformed = model.transform(df_kmeans).select(cols[0], 'prediction')\n",
    "rows = transformed.collect()\n",
    "print(rows[:3])"
   ]
  },
  {
   "cell_type": "code",
   "execution_count": 141,
   "metadata": {},
   "outputs": [
    {
     "name": "stdout",
     "output_type": "stream",
     "text": [
      "+-----------------------------+----------+\n",
      "|Million tonnes oil equivalent|prediction|\n",
      "+-----------------------------+----------+\n",
      "|                       Canada|         5|\n",
      "|                       Mexico|         0|\n",
      "|                           US|         3|\n",
      "|          Total North America|         3|\n",
      "|                    Argentina|         0|\n",
      "|                       Brazil|         5|\n",
      "|                        Chile|         0|\n",
      "|                     Colombia|         0|\n",
      "|                      Ecuador|         0|\n",
      "|                         Peru|         0|\n",
      "|            Trinidad & Tobago|         0|\n",
      "|                    Venezuela|         0|\n",
      "|         Other S. & Cent. ...|         0|\n",
      "|         Total S. & Cent. ...|         5|\n",
      "|                      Austria|         0|\n",
      "|                      Belgium|         0|\n",
      "|               Czech Republic|         0|\n",
      "|                      Finland|         0|\n",
      "|                       France|         0|\n",
      "|                      Germany|         5|\n",
      "+-----------------------------+----------+\n",
      "only showing top 20 rows\n",
      "\n"
     ]
    }
   ],
   "source": [
    "# Создадим датафрейм из полученных строк\n",
    "df_pred = spark.createDataFrame(rows)\n",
    "df_pred.show()"
   ]
  },
  {
   "cell_type": "code",
   "execution_count": 142,
   "metadata": {},
   "outputs": [
    {
     "data": {
      "text/html": [
       "<div>\n",
       "<style scoped>\n",
       "    .dataframe tbody tr th:only-of-type {\n",
       "        vertical-align: middle;\n",
       "    }\n",
       "\n",
       "    .dataframe tbody tr th {\n",
       "        vertical-align: top;\n",
       "    }\n",
       "\n",
       "    .dataframe thead th {\n",
       "        text-align: right;\n",
       "    }\n",
       "</style>\n",
       "<table border=\"1\" class=\"dataframe\">\n",
       "  <thead>\n",
       "    <tr style=\"text-align: right;\">\n",
       "      <th></th>\n",
       "      <th>prediction</th>\n",
       "      <th>Oil_new</th>\n",
       "      <th>Natural Gas_new</th>\n",
       "      <th>Coal_new</th>\n",
       "      <th>Nuclear energy_new</th>\n",
       "      <th>Hydro electric_new</th>\n",
       "      <th>Renewables_new</th>\n",
       "    </tr>\n",
       "    <tr>\n",
       "      <th>Million tonnes oil equivalent</th>\n",
       "      <th></th>\n",
       "      <th></th>\n",
       "      <th></th>\n",
       "      <th></th>\n",
       "      <th></th>\n",
       "      <th></th>\n",
       "      <th></th>\n",
       "    </tr>\n",
       "  </thead>\n",
       "  <tbody>\n",
       "    <tr>\n",
       "      <td>Sweden</td>\n",
       "      <td>0</td>\n",
       "      <td>14.834876</td>\n",
       "      <td>0.698266</td>\n",
       "      <td>1.968162</td>\n",
       "      <td>15.523328</td>\n",
       "      <td>14.010245</td>\n",
       "      <td>6.572206</td>\n",
       "    </tr>\n",
       "    <tr>\n",
       "      <td>Philippines</td>\n",
       "      <td>0</td>\n",
       "      <td>21.959384</td>\n",
       "      <td>3.515741</td>\n",
       "      <td>16.277785</td>\n",
       "      <td>0.000000</td>\n",
       "      <td>2.123310</td>\n",
       "      <td>3.154765</td>\n",
       "    </tr>\n",
       "    <tr>\n",
       "      <td>Malaysia</td>\n",
       "      <td>0</td>\n",
       "      <td>36.884767</td>\n",
       "      <td>35.490471</td>\n",
       "      <td>21.122196</td>\n",
       "      <td>0.000000</td>\n",
       "      <td>5.470538</td>\n",
       "      <td>0.331274</td>\n",
       "    </tr>\n",
       "    <tr>\n",
       "      <td>Singapore</td>\n",
       "      <td>0</td>\n",
       "      <td>75.820951</td>\n",
       "      <td>10.564301</td>\n",
       "      <td>0.912613</td>\n",
       "      <td>0.000000</td>\n",
       "      <td>0.000000</td>\n",
       "      <td>0.268585</td>\n",
       "    </tr>\n",
       "    <tr>\n",
       "      <td>Turkey</td>\n",
       "      <td>0</td>\n",
       "      <td>48.564390</td>\n",
       "      <td>40.669133</td>\n",
       "      <td>42.308652</td>\n",
       "      <td>0.000000</td>\n",
       "      <td>13.467503</td>\n",
       "      <td>8.530610</td>\n",
       "    </tr>\n",
       "  </tbody>\n",
       "</table>\n",
       "</div>"
      ],
      "text/plain": [
       "                               prediction    Oil_new  Natural Gas_new  \\\n",
       "Million tonnes oil equivalent                                           \n",
       "Sweden                                  0  14.834876         0.698266   \n",
       "Philippines                             0  21.959384         3.515741   \n",
       "Malaysia                                0  36.884767        35.490471   \n",
       "Singapore                               0  75.820951        10.564301   \n",
       "Turkey                                  0  48.564390        40.669133   \n",
       "\n",
       "                                Coal_new  Nuclear energy_new  \\\n",
       "Million tonnes oil equivalent                                  \n",
       "Sweden                          1.968162           15.523328   \n",
       "Philippines                    16.277785            0.000000   \n",
       "Malaysia                       21.122196            0.000000   \n",
       "Singapore                       0.912613            0.000000   \n",
       "Turkey                         42.308652            0.000000   \n",
       "\n",
       "                               Hydro electric_new  Renewables_new  \n",
       "Million tonnes oil equivalent                                      \n",
       "Sweden                                  14.010245        6.572206  \n",
       "Philippines                              2.123310        3.154765  \n",
       "Malaysia                                 5.470538        0.331274  \n",
       "Singapore                                0.000000        0.268585  \n",
       "Turkey                                  13.467503        8.530610  "
      ]
     },
     "execution_count": 142,
     "metadata": {},
     "output_type": "execute_result"
    }
   ],
   "source": [
    "# Соединим два датафрейма\n",
    "df_pred = df_pred.join(prim_new_DF, cols[0])\n",
    "pddf_pred = df_pred.toPandas().set_index(cols[0])\n",
    "pddf_pred.head()"
   ]
  },
  {
   "cell_type": "code",
   "execution_count": 143,
   "metadata": {},
   "outputs": [
    {
     "name": "stdout",
     "output_type": "stream",
     "text": [
      "Explained variation per principal component: [0.85617783 0.13027911 0.00926776]\n"
     ]
    }
   ],
   "source": [
    "# Для визуализации уменьшим размерность исходных данных\n",
    "cols = pddf_pred.columns\n",
    "pca = PCA(n_components=3)\n",
    "pca_result = pca.fit_transform(pddf_pred[cols[1:]].values)\n",
    "df = pd.DataFrame(data=pddf_pred[cols[0]], index=pddf_pred.index)\n",
    "df['pca-one'] = pca_result[:,0]\n",
    "df['pca-two'] = pca_result[:,1] \n",
    "df['pca-three'] = pca_result[:,2]\n",
    "print('Explained variation per principal component: {}'.format(pca.explained_variance_ratio_))"
   ]
  },
  {
   "cell_type": "code",
   "execution_count": 144,
   "metadata": {},
   "outputs": [
    {
     "data": {
      "text/html": [
       "<div>\n",
       "<style scoped>\n",
       "    .dataframe tbody tr th:only-of-type {\n",
       "        vertical-align: middle;\n",
       "    }\n",
       "\n",
       "    .dataframe tbody tr th {\n",
       "        vertical-align: top;\n",
       "    }\n",
       "\n",
       "    .dataframe thead th {\n",
       "        text-align: right;\n",
       "    }\n",
       "</style>\n",
       "<table border=\"1\" class=\"dataframe\">\n",
       "  <thead>\n",
       "    <tr style=\"text-align: right;\">\n",
       "      <th></th>\n",
       "      <th>prediction</th>\n",
       "      <th>pca-one</th>\n",
       "      <th>pca-two</th>\n",
       "      <th>pca-three</th>\n",
       "    </tr>\n",
       "    <tr>\n",
       "      <th>Million tonnes oil equivalent</th>\n",
       "      <th></th>\n",
       "      <th></th>\n",
       "      <th></th>\n",
       "      <th></th>\n",
       "    </tr>\n",
       "  </thead>\n",
       "  <tbody>\n",
       "    <tr>\n",
       "      <td>Sweden</td>\n",
       "      <td>0</td>\n",
       "      <td>-152.195484</td>\n",
       "      <td>-52.754937</td>\n",
       "      <td>-14.106607</td>\n",
       "    </tr>\n",
       "    <tr>\n",
       "      <td>Philippines</td>\n",
       "      <td>0</td>\n",
       "      <td>-138.945812</td>\n",
       "      <td>-57.822251</td>\n",
       "      <td>-10.076636</td>\n",
       "    </tr>\n",
       "    <tr>\n",
       "      <td>Malaysia</td>\n",
       "      <td>0</td>\n",
       "      <td>-118.614780</td>\n",
       "      <td>-33.059505</td>\n",
       "      <td>5.344468</td>\n",
       "    </tr>\n",
       "    <tr>\n",
       "      <td>Singapore</td>\n",
       "      <td>0</td>\n",
       "      <td>-121.530628</td>\n",
       "      <td>-16.725218</td>\n",
       "      <td>-40.132799</td>\n",
       "    </tr>\n",
       "    <tr>\n",
       "      <td>Turkey</td>\n",
       "      <td>0</td>\n",
       "      <td>-92.708620</td>\n",
       "      <td>-35.389703</td>\n",
       "      <td>4.008339</td>\n",
       "    </tr>\n",
       "  </tbody>\n",
       "</table>\n",
       "</div>"
      ],
      "text/plain": [
       "                               prediction     pca-one    pca-two  pca-three\n",
       "Million tonnes oil equivalent                                              \n",
       "Sweden                                  0 -152.195484 -52.754937 -14.106607\n",
       "Philippines                             0 -138.945812 -57.822251 -10.076636\n",
       "Malaysia                                0 -118.614780 -33.059505   5.344468\n",
       "Singapore                               0 -121.530628 -16.725218 -40.132799\n",
       "Turkey                                  0  -92.708620 -35.389703   4.008339"
      ]
     },
     "execution_count": 144,
     "metadata": {},
     "output_type": "execute_result"
    }
   ],
   "source": [
    "df.head()"
   ]
  },
  {
   "cell_type": "code",
   "execution_count": 145,
   "metadata": {
    "scrolled": false
   },
   "outputs": [
    {
     "data": {
      "text/plain": [
       "<matplotlib.axes._subplots.AxesSubplot at 0x66fb327988>"
      ]
     },
     "execution_count": 145,
     "metadata": {},
     "output_type": "execute_result"
    },
    {
     "data": {
      "image/png": "[encoded data removed]",
      "text/plain": [
       "<Figure size 1152x720 with 1 Axes>"
      ]
     },
     "metadata": {
      "needs_background": "light"
     },
     "output_type": "display_data"
    }
   ],
   "source": [
    "# Построим график проекции исходных данных на плоскость и\n",
    "# присвоим каждой точке (отдельной стране или региону) цвет, соответствующий кластеру\n",
    "plt.figure(figsize=(16,10))\n",
    "sns.scatterplot(\n",
    "    x='pca-one', y='pca-two',\n",
    "    hue='prediction',\n",
    "    palette=sns.color_palette('hls', k),\n",
    "    data=df,\n",
    "    legend=\"full\"\n",
    ")"
   ]
  },
  {
   "cell_type": "code",
   "execution_count": 164,
   "metadata": {},
   "outputs": [
    {
     "data": {
      "text/html": [
       "<div>\n",
       "<style scoped>\n",
       "    .dataframe tbody tr th:only-of-type {\n",
       "        vertical-align: middle;\n",
       "    }\n",
       "\n",
       "    .dataframe tbody tr th {\n",
       "        vertical-align: top;\n",
       "    }\n",
       "\n",
       "    .dataframe thead th {\n",
       "        text-align: right;\n",
       "    }\n",
       "</style>\n",
       "<table border=\"1\" class=\"dataframe\">\n",
       "  <thead>\n",
       "    <tr style=\"text-align: right;\">\n",
       "      <th></th>\n",
       "      <th>prediction</th>\n",
       "      <th>Oil</th>\n",
       "      <th>Natural Gas</th>\n",
       "      <th>Coal</th>\n",
       "      <th>Nuclear energy</th>\n",
       "      <th>Hydro electric</th>\n",
       "      <th>Renewables</th>\n",
       "    </tr>\n",
       "    <tr>\n",
       "      <th>Million tonnes oil equivalent</th>\n",
       "      <th></th>\n",
       "      <th></th>\n",
       "      <th></th>\n",
       "      <th></th>\n",
       "      <th></th>\n",
       "      <th></th>\n",
       "      <th></th>\n",
       "    </tr>\n",
       "  </thead>\n",
       "  <tbody>\n",
       "    <tr>\n",
       "      <td>Total Europe</td>\n",
       "      <td>3</td>\n",
       "      <td>746.162942</td>\n",
       "      <td>481.898943</td>\n",
       "      <td>315.538177</td>\n",
       "      <td>211.821276</td>\n",
       "      <td>132.345905</td>\n",
       "      <td>162.256051</td>\n",
       "    </tr>\n",
       "    <tr>\n",
       "      <td>China</td>\n",
       "      <td>1</td>\n",
       "      <td>610.683589</td>\n",
       "      <td>206.739785</td>\n",
       "      <td>1890.425612</td>\n",
       "      <td>56.138842</td>\n",
       "      <td>263.626284</td>\n",
       "      <td>111.417194</td>\n",
       "    </tr>\n",
       "    <tr>\n",
       "      <td>US</td>\n",
       "      <td>3</td>\n",
       "      <td>901.997187</td>\n",
       "      <td>635.805709</td>\n",
       "      <td>331.263340</td>\n",
       "      <td>191.726344</td>\n",
       "      <td>67.159948</td>\n",
       "      <td>94.528165</td>\n",
       "    </tr>\n",
       "    <tr>\n",
       "      <td>Russian Federation</td>\n",
       "      <td>4</td>\n",
       "      <td>151.511400</td>\n",
       "      <td>370.679786</td>\n",
       "      <td>83.930000</td>\n",
       "      <td>45.966776</td>\n",
       "      <td>41.932780</td>\n",
       "      <td>0.258653</td>\n",
       "    </tr>\n",
       "    <tr>\n",
       "      <td>Total CIS</td>\n",
       "      <td>4</td>\n",
       "      <td>191.146312</td>\n",
       "      <td>472.310072</td>\n",
       "      <td>126.424899</td>\n",
       "      <td>46.559526</td>\n",
       "      <td>54.339558</td>\n",
       "      <td>0.463072</td>\n",
       "    </tr>\n",
       "    <tr>\n",
       "      <td>Total Asia Pacific</td>\n",
       "      <td>2</td>\n",
       "      <td>1651.336852</td>\n",
       "      <td>660.642061</td>\n",
       "      <td>2770.842789</td>\n",
       "      <td>111.741349</td>\n",
       "      <td>373.228763</td>\n",
       "      <td>180.246691</td>\n",
       "    </tr>\n",
       "    <tr>\n",
       "      <td>Total North America</td>\n",
       "      <td>3</td>\n",
       "      <td>1096.613710</td>\n",
       "      <td>804.415691</td>\n",
       "      <td>365.075585</td>\n",
       "      <td>216.908916</td>\n",
       "      <td>164.084871</td>\n",
       "      <td>108.379269</td>\n",
       "    </tr>\n",
       "    <tr>\n",
       "      <td>Total Middle East</td>\n",
       "      <td>4</td>\n",
       "      <td>412.489702</td>\n",
       "      <td>453.168903</td>\n",
       "      <td>8.167409</td>\n",
       "      <td>1.600572</td>\n",
       "      <td>4.703821</td>\n",
       "      <td>1.254566</td>\n",
       "    </tr>\n",
       "  </tbody>\n",
       "</table>\n",
       "</div>"
      ],
      "text/plain": [
       "                               prediction          Oil  Natural Gas  \\\n",
       "Million tonnes oil equivalent                                         \n",
       "Total Europe                            3   746.162942   481.898943   \n",
       "China                                   1   610.683589   206.739785   \n",
       "US                                      3   901.997187   635.805709   \n",
       "Russian Federation                      4   151.511400   370.679786   \n",
       "Total CIS                               4   191.146312   472.310072   \n",
       "Total Asia Pacific                      2  1651.336852   660.642061   \n",
       "Total North America                     3  1096.613710   804.415691   \n",
       "Total Middle East                       4   412.489702   453.168903   \n",
       "\n",
       "                                      Coal  Nuclear energy  Hydro electric  \\\n",
       "Million tonnes oil equivalent                                                \n",
       "Total Europe                    315.538177      211.821276      132.345905   \n",
       "China                          1890.425612       56.138842      263.626284   \n",
       "US                              331.263340      191.726344       67.159948   \n",
       "Russian Federation               83.930000       45.966776       41.932780   \n",
       "Total CIS                       126.424899       46.559526       54.339558   \n",
       "Total Asia Pacific             2770.842789      111.741349      373.228763   \n",
       "Total North America             365.075585      216.908916      164.084871   \n",
       "Total Middle East                 8.167409        1.600572        4.703821   \n",
       "\n",
       "                               Renewables  \n",
       "Million tonnes oil equivalent              \n",
       "Total Europe                   162.256051  \n",
       "China                          111.417194  \n",
       "US                              94.528165  \n",
       "Russian Federation               0.258653  \n",
       "Total CIS                        0.463072  \n",
       "Total Asia Pacific             180.246691  \n",
       "Total North America            108.379269  \n",
       "Total Middle East                1.254566  "
      ]
     },
     "execution_count": 164,
     "metadata": {},
     "output_type": "execute_result"
    }
   ],
   "source": [
    "# Выведем представителей малочисленных кластеров\n",
    "pddf_pred[(pddf_pred['prediction']==1)+\n",
    "          (pddf_pred['prediction']==2)+\n",
    "          (pddf_pred['prediction']==3)+\n",
    "          (pddf_pred['prediction']==4)]"
   ]
  },
  {
   "cell_type": "markdown",
   "metadata": {},
   "source": [
    "Здесь можно заметить, что в четвёртый кластер попали страны и регионы, в которых, в частности, очень мало потребление энергии из возобновляемых источников энергии: Россия, СНГ и Ближний Восток."
   ]
  },
  {
   "cell_type": "code",
   "execution_count": 146,
   "metadata": {},
   "outputs": [],
   "source": [
    "# Проведём аналогично кластеризацию данных за 2017 год\n",
    "cols = prim_old_DF.columns\n",
    "vecAssembler = VectorAssembler(inputCols=cols[1:], outputCol=\"features\")\n",
    "df_kmeans = vecAssembler.transform(prim_old_DF).select(cols[0], 'features')"
   ]
  },
  {
   "cell_type": "code",
   "execution_count": 147,
   "metadata": {},
   "outputs": [
    {
     "name": "stdout",
     "output_type": "stream",
     "text": [
      "Cluster Centers: \n",
      "[29.19319839 20.66884976 11.18862942  3.43478064  5.17738462  2.63300307]\n",
      "[ 610.68358924  206.73978501 1890.425612     56.13884238  263.62628411\n",
      "  111.41719373]\n",
      "[1651.33685163  660.64206115 2770.84278919  111.74134907  373.22876281\n",
      "  180.24669055]\n",
      "[914.92461298 640.70678117 337.29236729 206.81884512 121.19690808\n",
      " 121.72116144]\n",
      "[251.71580482 432.05292028  72.84076927  31.37562464  33.65871977\n",
      "   0.65876352]\n",
      "[167.12818255  93.73239142  86.27061569  10.2286489   42.25743825\n",
      "  16.10253269]\n"
     ]
    }
   ],
   "source": [
    "k = 6\n",
    "kmeans = KMeans().setK(k).setSeed(1).setFeaturesCol(\"features\")\n",
    "model = kmeans.fit(df_kmeans)\n",
    "centers = model.clusterCenters()\n",
    "\n",
    "print(\"Cluster Centers: \")\n",
    "for center in centers:\n",
    "    print(center)"
   ]
  },
  {
   "cell_type": "code",
   "execution_count": 148,
   "metadata": {},
   "outputs": [
    {
     "name": "stdout",
     "output_type": "stream",
     "text": [
      "[Row(Million tonnes oil equivalent='Canada', prediction=5), Row(Million tonnes oil equivalent='Mexico', prediction=0), Row(Million tonnes oil equivalent='US', prediction=3)]\n"
     ]
    }
   ],
   "source": [
    "transformed = model.transform(df_kmeans).select(cols[0], 'prediction')\n",
    "rows = transformed.collect()\n",
    "\n",
    "df_pred = spark.createDataFrame(rows)\n",
    "\n",
    "df_pred = df_pred.join(prim_old_DF, cols[0])\n",
    "pddf_pred = df_pred.toPandas().set_index(cols[0])"
   ]
  },
  {
   "cell_type": "code",
   "execution_count": 151,
   "metadata": {},
   "outputs": [
    {
     "name": "stdout",
     "output_type": "stream",
     "text": [
      "Explained variation per principal component: [0.85850136 0.12831689 0.00880108]\n"
     ]
    }
   ],
   "source": [
    "cols = pddf_pred.columns\n",
    "pca = PCA(n_components=3)\n",
    "pca_result = pca.fit_transform(pddf_pred[cols[1:]].values)\n",
    "df2 = pd.DataFrame(data=pddf_pred[cols[0]], index=pddf_pred.index)\n",
    "df2['pca-one'] = pca_result[:,0]\n",
    "df2['pca-two'] = pca_result[:,1] \n",
    "df2['pca-three'] = pca_result[:,2]\n",
    "print('Explained variation per principal component: {}'.format(pca.explained_variance_ratio_))"
   ]
  },
  {
   "cell_type": "code",
   "execution_count": 152,
   "metadata": {
    "scrolled": false
   },
   "outputs": [
    {
     "data": {
      "text/plain": [
       "<matplotlib.axes._subplots.AxesSubplot at 0x66fb424888>"
      ]
     },
     "execution_count": 152,
     "metadata": {},
     "output_type": "execute_result"
    },
    {
     "data": {
      "image/png": "[encoded data removed]",
      "text/plain": [
       "<Figure size 1152x576 with 2 Axes>"
      ]
     },
     "metadata": {
      "needs_background": "light"
     },
     "output_type": "display_data"
    }
   ],
   "source": [
    "# Визуализируем результаты кластеризации для данных за 2017 и 2018 года\n",
    "plt.figure(figsize=(16,8))\n",
    "plt.subplot(121)\n",
    "plt.title('Energy consumption in 2017')\n",
    "sns.scatterplot(\n",
    "    x='pca-one', y='pca-two',\n",
    "    hue='prediction',\n",
    "    palette=sns.color_palette('hls', k),\n",
    "    data=df2,\n",
    "    legend=\"full\"\n",
    ")\n",
    "plt.subplot(122)\n",
    "plt.title('Energy consumption in 2018')\n",
    "sns.scatterplot(\n",
    "    x='pca-one', y='pca-two',\n",
    "    hue='prediction',\n",
    "    palette=sns.color_palette('hls', k),\n",
    "    data=df,\n",
    "    legend=\"full\"\n",
    ")"
   ]
  },
  {
   "cell_type": "markdown",
   "metadata": {},
   "source": [
    "Как видно, за год представители малочисленных кластеров не поменяли кластеры. Визуально ситуация в 2018 в целом осталась такой же, какой была в 2017 году."
   ]
  }
 ],
 "metadata": {
  "kernelspec": {
   "display_name": "Python 3",
   "language": "python",
   "name": "python3"
  },
  "language_info": {
   "codemirror_mode": {
    "name": "ipython",
    "version": 3
   },
   "file_extension": ".py",
   "mimetype": "text/x-python",
   "name": "python",
   "nbconvert_exporter": "python",
   "pygments_lexer": "ipython3",
   "version": "3.7.4"
  }
 },
 "nbformat": 4,
 "nbformat_minor": 2
}
